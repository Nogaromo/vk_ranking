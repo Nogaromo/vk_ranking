{
  "cells": [
    {
      "cell_type": "code",
      "execution_count": 1,
      "metadata": {
        "id": "kUj8JNsqbTG_",
        "scrolled": true
      },
      "outputs": [],
      "source": [
        "from catboost import CatBoostRanker, Pool, MetricVisualizer\n",
        "import matplotlib.pyplot as plt\n",
        "from collections import Counter\n",
        "from math import ceil\n",
        "from sklearn.model_selection import train_test_split\n",
        "from copy import deepcopy\n",
        "import numpy as np\n",
        "import os\n",
        "import pandas as pd\n",
        "from utils import *"
      ]
    },
    {
      "cell_type": "code",
      "execution_count": 2,
      "metadata": {},
      "outputs": [
        {
          "data": {
            "text/html": [
              "<div>\n",
              "<style scoped>\n",
              "    .dataframe tbody tr th:only-of-type {\n",
              "        vertical-align: middle;\n",
              "    }\n",
              "\n",
              "    .dataframe tbody tr th {\n",
              "        vertical-align: top;\n",
              "    }\n",
              "\n",
              "    .dataframe thead th {\n",
              "        text-align: right;\n",
              "    }\n",
              "</style>\n",
              "<table border=\"1\" class=\"dataframe\">\n",
              "  <thead>\n",
              "    <tr style=\"text-align: right;\">\n",
              "      <th></th>\n",
              "      <th>rank</th>\n",
              "      <th>query_id</th>\n",
              "      <th>feature_0</th>\n",
              "      <th>feature_1</th>\n",
              "      <th>feature_2</th>\n",
              "      <th>feature_3</th>\n",
              "      <th>feature_4</th>\n",
              "      <th>feature_5</th>\n",
              "      <th>feature_6</th>\n",
              "      <th>feature_7</th>\n",
              "      <th>...</th>\n",
              "      <th>feature_134</th>\n",
              "      <th>feature_135</th>\n",
              "      <th>feature_136</th>\n",
              "      <th>feature_137</th>\n",
              "      <th>feature_138</th>\n",
              "      <th>feature_139</th>\n",
              "      <th>feature_140</th>\n",
              "      <th>feature_141</th>\n",
              "      <th>feature_142</th>\n",
              "      <th>feature_143</th>\n",
              "    </tr>\n",
              "  </thead>\n",
              "  <tbody>\n",
              "    <tr>\n",
              "      <th>0</th>\n",
              "      <td>0</td>\n",
              "      <td>10</td>\n",
              "      <td>1.0</td>\n",
              "      <td>0.0</td>\n",
              "      <td>1.0</td>\n",
              "      <td>3.0</td>\n",
              "      <td>3.0</td>\n",
              "      <td>0.333333</td>\n",
              "      <td>0.0</td>\n",
              "      <td>0.333333</td>\n",
              "      <td>...</td>\n",
              "      <td>0.0</td>\n",
              "      <td>0.0</td>\n",
              "      <td>0.454545</td>\n",
              "      <td>0.890238</td>\n",
              "      <td>8.655534</td>\n",
              "      <td>1.000000</td>\n",
              "      <td>0.077778</td>\n",
              "      <td>0.002222</td>\n",
              "      <td>1.0</td>\n",
              "      <td>0.333333</td>\n",
              "    </tr>\n",
              "    <tr>\n",
              "      <th>1</th>\n",
              "      <td>2</td>\n",
              "      <td>10</td>\n",
              "      <td>3.0</td>\n",
              "      <td>3.0</td>\n",
              "      <td>3.0</td>\n",
              "      <td>1.0</td>\n",
              "      <td>3.0</td>\n",
              "      <td>1.000000</td>\n",
              "      <td>1.0</td>\n",
              "      <td>1.000000</td>\n",
              "      <td>...</td>\n",
              "      <td>0.0</td>\n",
              "      <td>0.0</td>\n",
              "      <td>0.142857</td>\n",
              "      <td>0.998020</td>\n",
              "      <td>22.936731</td>\n",
              "      <td>0.333333</td>\n",
              "      <td>0.022648</td>\n",
              "      <td>0.000009</td>\n",
              "      <td>31.0</td>\n",
              "      <td>10.333333</td>\n",
              "    </tr>\n",
              "    <tr>\n",
              "      <th>2</th>\n",
              "      <td>0</td>\n",
              "      <td>10</td>\n",
              "      <td>0.0</td>\n",
              "      <td>0.0</td>\n",
              "      <td>0.0</td>\n",
              "      <td>0.0</td>\n",
              "      <td>0.0</td>\n",
              "      <td>0.000000</td>\n",
              "      <td>0.0</td>\n",
              "      <td>0.000000</td>\n",
              "      <td>...</td>\n",
              "      <td>0.0</td>\n",
              "      <td>0.0</td>\n",
              "      <td>0.000000</td>\n",
              "      <td>0.000000</td>\n",
              "      <td>0.000000</td>\n",
              "      <td>0.000000</td>\n",
              "      <td>0.000000</td>\n",
              "      <td>0.000000</td>\n",
              "      <td>0.0</td>\n",
              "      <td>0.000000</td>\n",
              "    </tr>\n",
              "    <tr>\n",
              "      <th>3</th>\n",
              "      <td>2</td>\n",
              "      <td>10</td>\n",
              "      <td>3.0</td>\n",
              "      <td>0.0</td>\n",
              "      <td>0.0</td>\n",
              "      <td>0.0</td>\n",
              "      <td>3.0</td>\n",
              "      <td>1.000000</td>\n",
              "      <td>0.0</td>\n",
              "      <td>0.000000</td>\n",
              "      <td>...</td>\n",
              "      <td>0.0</td>\n",
              "      <td>0.0</td>\n",
              "      <td>0.000000</td>\n",
              "      <td>0.997559</td>\n",
              "      <td>0.000000</td>\n",
              "      <td>0.000000</td>\n",
              "      <td>0.010774</td>\n",
              "      <td>0.000001</td>\n",
              "      <td>16.0</td>\n",
              "      <td>5.333333</td>\n",
              "    </tr>\n",
              "    <tr>\n",
              "      <th>4</th>\n",
              "      <td>1</td>\n",
              "      <td>10</td>\n",
              "      <td>0.0</td>\n",
              "      <td>0.0</td>\n",
              "      <td>0.0</td>\n",
              "      <td>0.0</td>\n",
              "      <td>0.0</td>\n",
              "      <td>0.000000</td>\n",
              "      <td>0.0</td>\n",
              "      <td>0.000000</td>\n",
              "      <td>...</td>\n",
              "      <td>0.0</td>\n",
              "      <td>0.0</td>\n",
              "      <td>0.000000</td>\n",
              "      <td>0.000000</td>\n",
              "      <td>0.000000</td>\n",
              "      <td>0.000000</td>\n",
              "      <td>0.000000</td>\n",
              "      <td>0.000000</td>\n",
              "      <td>0.0</td>\n",
              "      <td>0.000000</td>\n",
              "    </tr>\n",
              "    <tr>\n",
              "      <th>...</th>\n",
              "      <td>...</td>\n",
              "      <td>...</td>\n",
              "      <td>...</td>\n",
              "      <td>...</td>\n",
              "      <td>...</td>\n",
              "      <td>...</td>\n",
              "      <td>...</td>\n",
              "      <td>...</td>\n",
              "      <td>...</td>\n",
              "      <td>...</td>\n",
              "      <td>...</td>\n",
              "      <td>...</td>\n",
              "      <td>...</td>\n",
              "      <td>...</td>\n",
              "      <td>...</td>\n",
              "      <td>...</td>\n",
              "      <td>...</td>\n",
              "      <td>...</td>\n",
              "      <td>...</td>\n",
              "      <td>...</td>\n",
              "      <td>...</td>\n",
              "    </tr>\n",
              "    <tr>\n",
              "      <th>235253</th>\n",
              "      <td>1</td>\n",
              "      <td>29995</td>\n",
              "      <td>0.0</td>\n",
              "      <td>0.0</td>\n",
              "      <td>0.0</td>\n",
              "      <td>0.0</td>\n",
              "      <td>0.0</td>\n",
              "      <td>0.000000</td>\n",
              "      <td>0.0</td>\n",
              "      <td>0.000000</td>\n",
              "      <td>...</td>\n",
              "      <td>0.0</td>\n",
              "      <td>0.0</td>\n",
              "      <td>0.000000</td>\n",
              "      <td>0.000000</td>\n",
              "      <td>0.000000</td>\n",
              "      <td>0.000000</td>\n",
              "      <td>0.000000</td>\n",
              "      <td>0.000000</td>\n",
              "      <td>0.0</td>\n",
              "      <td>0.000000</td>\n",
              "    </tr>\n",
              "    <tr>\n",
              "      <th>235254</th>\n",
              "      <td>1</td>\n",
              "      <td>29995</td>\n",
              "      <td>1.0</td>\n",
              "      <td>1.0</td>\n",
              "      <td>1.0</td>\n",
              "      <td>1.0</td>\n",
              "      <td>1.0</td>\n",
              "      <td>0.500000</td>\n",
              "      <td>0.5</td>\n",
              "      <td>0.500000</td>\n",
              "      <td>...</td>\n",
              "      <td>0.0</td>\n",
              "      <td>0.0</td>\n",
              "      <td>0.111111</td>\n",
              "      <td>0.471409</td>\n",
              "      <td>13.302685</td>\n",
              "      <td>0.500000</td>\n",
              "      <td>0.019608</td>\n",
              "      <td>0.000037</td>\n",
              "      <td>1.0</td>\n",
              "      <td>0.500000</td>\n",
              "    </tr>\n",
              "    <tr>\n",
              "      <th>235255</th>\n",
              "      <td>2</td>\n",
              "      <td>29995</td>\n",
              "      <td>1.0</td>\n",
              "      <td>0.0</td>\n",
              "      <td>0.0</td>\n",
              "      <td>0.0</td>\n",
              "      <td>1.0</td>\n",
              "      <td>0.500000</td>\n",
              "      <td>0.0</td>\n",
              "      <td>0.000000</td>\n",
              "      <td>...</td>\n",
              "      <td>0.0</td>\n",
              "      <td>0.0</td>\n",
              "      <td>0.000000</td>\n",
              "      <td>0.471409</td>\n",
              "      <td>0.000000</td>\n",
              "      <td>0.000000</td>\n",
              "      <td>0.003916</td>\n",
              "      <td>0.000017</td>\n",
              "      <td>3.0</td>\n",
              "      <td>1.500000</td>\n",
              "    </tr>\n",
              "    <tr>\n",
              "      <th>235256</th>\n",
              "      <td>1</td>\n",
              "      <td>29995</td>\n",
              "      <td>1.0</td>\n",
              "      <td>0.0</td>\n",
              "      <td>0.0</td>\n",
              "      <td>0.0</td>\n",
              "      <td>1.0</td>\n",
              "      <td>0.500000</td>\n",
              "      <td>0.0</td>\n",
              "      <td>0.000000</td>\n",
              "      <td>...</td>\n",
              "      <td>0.0</td>\n",
              "      <td>0.0</td>\n",
              "      <td>0.000000</td>\n",
              "      <td>0.471409</td>\n",
              "      <td>0.000000</td>\n",
              "      <td>0.000000</td>\n",
              "      <td>0.003077</td>\n",
              "      <td>0.000010</td>\n",
              "      <td>4.0</td>\n",
              "      <td>2.000000</td>\n",
              "    </tr>\n",
              "    <tr>\n",
              "      <th>235257</th>\n",
              "      <td>1</td>\n",
              "      <td>29995</td>\n",
              "      <td>0.0</td>\n",
              "      <td>0.0</td>\n",
              "      <td>0.0</td>\n",
              "      <td>0.0</td>\n",
              "      <td>0.0</td>\n",
              "      <td>0.000000</td>\n",
              "      <td>0.0</td>\n",
              "      <td>0.000000</td>\n",
              "      <td>...</td>\n",
              "      <td>0.0</td>\n",
              "      <td>0.0</td>\n",
              "      <td>0.000000</td>\n",
              "      <td>0.000000</td>\n",
              "      <td>0.000000</td>\n",
              "      <td>0.000000</td>\n",
              "      <td>0.000000</td>\n",
              "      <td>0.000000</td>\n",
              "      <td>0.0</td>\n",
              "      <td>0.000000</td>\n",
              "    </tr>\n",
              "  </tbody>\n",
              "</table>\n",
              "<p>235258 rows × 146 columns</p>\n",
              "</div>"
            ],
            "text/plain": [
              "        rank  query_id  feature_0  feature_1  feature_2  feature_3  feature_4  \\\n",
              "0          0        10        1.0        0.0        1.0        3.0        3.0   \n",
              "1          2        10        3.0        3.0        3.0        1.0        3.0   \n",
              "2          0        10        0.0        0.0        0.0        0.0        0.0   \n",
              "3          2        10        3.0        0.0        0.0        0.0        3.0   \n",
              "4          1        10        0.0        0.0        0.0        0.0        0.0   \n",
              "...      ...       ...        ...        ...        ...        ...        ...   \n",
              "235253     1     29995        0.0        0.0        0.0        0.0        0.0   \n",
              "235254     1     29995        1.0        1.0        1.0        1.0        1.0   \n",
              "235255     2     29995        1.0        0.0        0.0        0.0        1.0   \n",
              "235256     1     29995        1.0        0.0        0.0        0.0        1.0   \n",
              "235257     1     29995        0.0        0.0        0.0        0.0        0.0   \n",
              "\n",
              "        feature_5  feature_6  feature_7  ...  feature_134  feature_135  \\\n",
              "0        0.333333        0.0   0.333333  ...          0.0          0.0   \n",
              "1        1.000000        1.0   1.000000  ...          0.0          0.0   \n",
              "2        0.000000        0.0   0.000000  ...          0.0          0.0   \n",
              "3        1.000000        0.0   0.000000  ...          0.0          0.0   \n",
              "4        0.000000        0.0   0.000000  ...          0.0          0.0   \n",
              "...           ...        ...        ...  ...          ...          ...   \n",
              "235253   0.000000        0.0   0.000000  ...          0.0          0.0   \n",
              "235254   0.500000        0.5   0.500000  ...          0.0          0.0   \n",
              "235255   0.500000        0.0   0.000000  ...          0.0          0.0   \n",
              "235256   0.500000        0.0   0.000000  ...          0.0          0.0   \n",
              "235257   0.000000        0.0   0.000000  ...          0.0          0.0   \n",
              "\n",
              "        feature_136  feature_137  feature_138  feature_139  feature_140  \\\n",
              "0          0.454545     0.890238     8.655534     1.000000     0.077778   \n",
              "1          0.142857     0.998020    22.936731     0.333333     0.022648   \n",
              "2          0.000000     0.000000     0.000000     0.000000     0.000000   \n",
              "3          0.000000     0.997559     0.000000     0.000000     0.010774   \n",
              "4          0.000000     0.000000     0.000000     0.000000     0.000000   \n",
              "...             ...          ...          ...          ...          ...   \n",
              "235253     0.000000     0.000000     0.000000     0.000000     0.000000   \n",
              "235254     0.111111     0.471409    13.302685     0.500000     0.019608   \n",
              "235255     0.000000     0.471409     0.000000     0.000000     0.003916   \n",
              "235256     0.000000     0.471409     0.000000     0.000000     0.003077   \n",
              "235257     0.000000     0.000000     0.000000     0.000000     0.000000   \n",
              "\n",
              "        feature_141  feature_142  feature_143  \n",
              "0          0.002222          1.0     0.333333  \n",
              "1          0.000009         31.0    10.333333  \n",
              "2          0.000000          0.0     0.000000  \n",
              "3          0.000001         16.0     5.333333  \n",
              "4          0.000000          0.0     0.000000  \n",
              "...             ...          ...          ...  \n",
              "235253     0.000000          0.0     0.000000  \n",
              "235254     0.000037          1.0     0.500000  \n",
              "235255     0.000017          3.0     1.500000  \n",
              "235256     0.000010          4.0     2.000000  \n",
              "235257     0.000000          0.0     0.000000  \n",
              "\n",
              "[235258 rows x 146 columns]"
            ]
          },
          "execution_count": 2,
          "metadata": {},
          "output_type": "execute_result"
        }
      ],
      "source": [
        "df = pd.read_csv('intern_task.csv')\n",
        "df = sort_df(df)\n",
        "df"
      ]
    },
    {
      "cell_type": "code",
      "execution_count": 3,
      "metadata": {},
      "outputs": [
        {
          "name": "stdout",
          "output_type": "stream",
          "text": [
            "name: feature_64 | item: 0 | dtype: int64\n",
            "name: feature_65 | item: 0 | dtype: int64\n",
            "name: feature_72 | item: 1 | dtype: int64\n",
            "name: feature_100 | item: 0 | dtype: int64\n"
          ]
        }
      ],
      "source": [
        "df = drop_features(df)"
      ]
    },
    {
      "cell_type": "code",
      "execution_count": 4,
      "metadata": {},
      "outputs": [],
      "source": [
        "df_train, df_test = train_test(df)"
      ]
    },
    {
      "cell_type": "code",
      "execution_count": 5,
      "metadata": {},
      "outputs": [
        {
          "data": {
            "application/vnd.jupyter.widget-view+json": {
              "model_id": "dd7fbec66f2e4bc9ba322145bd3ce5ec",
              "version_major": 2,
              "version_minor": 0
            },
            "text/plain": [
              "  0%|          | 0/2000 [00:00<?, ?it/s]"
            ]
          },
          "metadata": {},
          "output_type": "display_data"
        }
      ],
      "source": [
        "df_train = fix_class_dist(df_train)"
      ]
    },
    {
      "cell_type": "code",
      "execution_count": 6,
      "metadata": {},
      "outputs": [],
      "source": [
        "df_train = sort_df(df_train)\n",
        "df_test = sort_df(df_test)"
      ]
    },
    {
      "cell_type": "code",
      "execution_count": 7,
      "metadata": {},
      "outputs": [],
      "source": [
        "X_train = df_train.drop(['rank', 'query_id'], axis=1)\n",
        "X_test = df_test.drop(['rank', 'query_id'], axis=1)\n",
        "\n",
        "y_train = df_train['rank']\n",
        "y_test = df_test['rank']\n",
        "\n",
        "queries_train = df_train['query_id']\n",
        "queries_test = df_test['query_id']"
      ]
    },
    {
      "cell_type": "code",
      "execution_count": 8,
      "metadata": {
        "id": "WqZ82jp_bTHH",
        "scrolled": true
      },
      "outputs": [],
      "source": [
        "max_relevance = np.max(y_train)\n",
        "y_train = y_train / max_relevance\n",
        "y_test = y_test / max_relevance"
      ]
    },
    {
      "cell_type": "code",
      "execution_count": 9,
      "metadata": {
        "id": "xgNMFwp4bTHH",
        "scrolled": true
      },
      "outputs": [],
      "source": [
        "train = Pool(\n",
        "    data=X_train,\n",
        "    label=y_train,\n",
        "    group_id=queries_train\n",
        ")\n",
        "\n",
        "test = Pool(\n",
        "    data=X_test,\n",
        "    label=y_test,\n",
        "    group_id=queries_test\n",
        ")"
      ]
    },
    {
      "cell_type": "code",
      "execution_count": 10,
      "metadata": {
        "id": "V-ZJOJHZbTHI",
        "scrolled": true
      },
      "outputs": [],
      "source": [
        "default_parameters = {\n",
        "    'iterations': 2000,\n",
        "    'custom_metric': ['NDCG:top=5', 'PFound:top=5', 'AverageGain:top=5'],\n",
        "    'verbose': False,\n",
        "    'random_seed': 0,\n",
        "    'task_type': 'GPU'\n",
        "}\n",
        "\n",
        "parameters = {}"
      ]
    },
    {
      "cell_type": "code",
      "execution_count": 11,
      "metadata": {
        "id": "9vpp6f_4bTHJ",
        "scrolled": true
      },
      "outputs": [],
      "source": [
        "def fit_model(loss_function, additional_params=None, train_pool=train, test_pool=test):\n",
        "    parameters = deepcopy(default_parameters)\n",
        "    parameters['loss_function'] = loss_function\n",
        "\n",
        "    if additional_params is not None:\n",
        "        parameters.update(additional_params)\n",
        "\n",
        "    model = CatBoostRanker(**parameters)\n",
        "    model.fit(train_pool, eval_set=test_pool, plot=True)\n",
        "\n",
        "    return model"
      ]
    },
    {
      "cell_type": "code",
      "execution_count": 12,
      "metadata": {
        "id": "RShC-9nKbTHJ",
        "scrolled": false
      },
      "outputs": [
        {
          "name": "stderr",
          "output_type": "stream",
          "text": [
            "c:\\Users\\gorya\\OneDrive\\Рабочий стол\\vk ranking\\.venv\\lib\\site-packages\\catboost\\core.py:6346: RuntimeWarning: Regression loss ('RMSE') ignores an important ranking parameter 'group_id'\n",
            "  warnings.warn(\"Regression loss ('{}') ignores an important ranking parameter 'group_id'\".format(loss_function), RuntimeWarning)\n"
          ]
        },
        {
          "data": {
            "application/vnd.jupyter.widget-view+json": {
              "model_id": "f4c1c5c1fe55493b974f5d356d08ff32",
              "version_major": 2,
              "version_minor": 0
            },
            "text/plain": [
              "MetricVisualizer(layout=Layout(align_self='stretch', height='500px'))"
            ]
          },
          "metadata": {},
          "output_type": "display_data"
        },
        {
          "name": "stderr",
          "output_type": "stream",
          "text": [
            "Default metric period is 5 because PrecisionAt, RecallAt, MAP, NDCG is/are not implemented for GPU\n",
            "Metric NDCG:top=5;type=Base is not implemented on GPU. Will use CPU for metric computation, this could significantly affect learning time\n",
            "Metric PrecisionAt:top=10 is not implemented on GPU. Will use CPU for metric computation, this could significantly affect learning time\n",
            "Metric RecallAt:top=10 is not implemented on GPU. Will use CPU for metric computation, this could significantly affect learning time\n",
            "Metric MAP:top=10 is not implemented on GPU. Will use CPU for metric computation, this could significantly affect learning time\n"
          ]
        }
      ],
      "source": [
        "model = fit_model('RMSE', {'custom_metric': ['NDCG:top=5', 'PrecisionAt:top=10', 'RecallAt:top=10', 'MAP:top=10']})"
      ]
    },
    {
      "cell_type": "code",
      "execution_count": 13,
      "metadata": {
        "id": "eR8dWQjKbTHK",
        "scrolled": false
      },
      "outputs": [
        {
          "data": {
            "application/vnd.jupyter.widget-view+json": {
              "model_id": "b73739e65ae84f849cd578367c9d1334",
              "version_major": 2,
              "version_minor": 0
            },
            "text/plain": [
              "MetricVisualizer(layout=Layout(align_self='stretch', height='500px'))"
            ]
          },
          "metadata": {},
          "output_type": "display_data"
        },
        {
          "name": "stderr",
          "output_type": "stream",
          "text": [
            "Default metric period is 5 because AverageGain, PFound, NDCG is/are not implemented for GPU\n",
            "Metric NDCG:top=5;type=Base is not implemented on GPU. Will use CPU for metric computation, this could significantly affect learning time\n",
            "Metric PFound:top=5 is not implemented on GPU. Will use CPU for metric computation, this could significantly affect learning time\n",
            "Metric AverageGain:top=5 is not implemented on GPU. Will use CPU for metric computation, this could significantly affect learning time\n"
          ]
        },
        {
          "data": {
            "text/plain": [
              "<catboost.core.CatBoostRanker at 0x2aef109b5e0>"
            ]
          },
          "execution_count": 13,
          "metadata": {},
          "output_type": "execute_result"
        }
      ],
      "source": [
        "fit_model('QueryRMSE')"
      ]
    },
    {
      "cell_type": "code",
      "execution_count": 14,
      "metadata": {
        "id": "jaEFkzjEbTHK",
        "scrolled": false
      },
      "outputs": [
        {
          "data": {
            "application/vnd.jupyter.widget-view+json": {
              "model_id": "c002f990912248eca025240a7f44839f",
              "version_major": 2,
              "version_minor": 0
            },
            "text/plain": [
              "MetricVisualizer(layout=Layout(align_self='stretch', height='500px'))"
            ]
          },
          "metadata": {},
          "output_type": "display_data"
        },
        {
          "name": "stderr",
          "output_type": "stream",
          "text": [
            "Default metric period is 5 because AverageGain, PFound, NDCG is/are not implemented for GPU\n",
            "Metric NDCG:top=5;type=Base is not implemented on GPU. Will use CPU for metric computation, this could significantly affect learning time\n",
            "Metric PFound:top=5 is not implemented on GPU. Will use CPU for metric computation, this could significantly affect learning time\n",
            "Metric AverageGain:top=5 is not implemented on GPU. Will use CPU for metric computation, this could significantly affect learning time\n"
          ]
        },
        {
          "data": {
            "text/plain": [
              "<catboost.core.CatBoostRanker at 0x2aef109b760>"
            ]
          },
          "execution_count": 14,
          "metadata": {},
          "output_type": "execute_result"
        }
      ],
      "source": [
        "fit_model('PairLogit:max_pairs=10000')"
      ]
    },
    {
      "cell_type": "code",
      "execution_count": 15,
      "metadata": {
        "id": "zry90tr4bTHL",
        "scrolled": false
      },
      "outputs": [
        {
          "data": {
            "application/vnd.jupyter.widget-view+json": {
              "model_id": "0a05744cadb64233bf4d630e7d4b0563",
              "version_major": 2,
              "version_minor": 0
            },
            "text/plain": [
              "MetricVisualizer(layout=Layout(align_self='stretch', height='500px'))"
            ]
          },
          "metadata": {},
          "output_type": "display_data"
        },
        {
          "name": "stderr",
          "output_type": "stream",
          "text": [
            "Default metric period is 5 because AverageGain, PFound, NDCG is/are not implemented for GPU\n",
            "Metric NDCG:top=5;type=Base is not implemented on GPU. Will use CPU for metric computation, this could significantly affect learning time\n",
            "Metric PFound:top=5 is not implemented on GPU. Will use CPU for metric computation, this could significantly affect learning time\n",
            "Metric AverageGain:top=5 is not implemented on GPU. Will use CPU for metric computation, this could significantly affect learning time\n"
          ]
        },
        {
          "data": {
            "text/plain": [
              "<catboost.core.CatBoostRanker at 0x2aef109b190>"
            ]
          },
          "execution_count": 15,
          "metadata": {},
          "output_type": "execute_result"
        }
      ],
      "source": [
        "fit_model('PairLogitPairwise:max_pairs=10000')"
      ]
    },
    {
      "cell_type": "code",
      "execution_count": 16,
      "metadata": {
        "id": "BFLQGG0gbTHL",
        "scrolled": true
      },
      "outputs": [
        {
          "data": {
            "application/vnd.jupyter.widget-view+json": {
              "model_id": "0a0ad6e929c444b38771466b9c50d0c6",
              "version_major": 2,
              "version_minor": 0
            },
            "text/plain": [
              "MetricVisualizer(layout=Layout(align_self='stretch', height='500px'))"
            ]
          },
          "metadata": {},
          "output_type": "display_data"
        },
        {
          "name": "stderr",
          "output_type": "stream",
          "text": [
            "Default metric period is 5 because AverageGain, PFound, NDCG is/are not implemented for GPU\n",
            "Metric PFound is not implemented on GPU. Will use CPU for metric computation, this could significantly affect learning time\n",
            "Metric PFound is not implemented on GPU. Will use CPU for metric computation, this could significantly affect learning time\n",
            "Metric NDCG:top=5;type=Base is not implemented on GPU. Will use CPU for metric computation, this could significantly affect learning time\n",
            "Metric PFound:top=5 is not implemented on GPU. Will use CPU for metric computation, this could significantly affect learning time\n",
            "Metric AverageGain:top=5 is not implemented on GPU. Will use CPU for metric computation, this could significantly affect learning time\n"
          ]
        },
        {
          "data": {
            "text/plain": [
              "<catboost.core.CatBoostRanker at 0x2aef0cb89a0>"
            ]
          },
          "execution_count": 16,
          "metadata": {},
          "output_type": "execute_result"
        }
      ],
      "source": [
        "fit_model('YetiRankPairwise:max_pairs=10000')"
      ]
    },
    {
      "cell_type": "code",
      "execution_count": 17,
      "metadata": {
        "id": "-CFybHVMbTHL",
        "scrolled": false
      },
      "outputs": [
        {
          "data": {
            "application/vnd.jupyter.widget-view+json": {
              "model_id": "7eaff17c89b34c39a4e475db1c2f7fc6",
              "version_major": 2,
              "version_minor": 0
            },
            "text/plain": [
              "MetricVisualizer(layout=Layout(align_self='stretch', height='500px'))"
            ]
          },
          "metadata": {},
          "output_type": "display_data"
        }
      ],
      "source": [
        "widget = MetricVisualizer(['RMSE', 'QueryRMSE', 'PairLogit', 'PairLogitPairwise', 'YetiRank', 'YetiRankPairwise'])\n",
        "widget.start()"
      ]
    },
    {
      "cell_type": "code",
      "execution_count": null,
      "metadata": {},
      "outputs": [],
      "source": []
    }
  ],
  "metadata": {
    "colab": {
      "provenance": []
    },
    "kernelspec": {
      "display_name": "Python 3",
      "language": "python",
      "name": "python3"
    },
    "language_info": {
      "codemirror_mode": {
        "name": "ipython",
        "version": 3
      },
      "file_extension": ".py",
      "mimetype": "text/x-python",
      "name": "python",
      "nbconvert_exporter": "python",
      "pygments_lexer": "ipython3",
      "version": "3.8.0"
    }
  },
  "nbformat": 4,
  "nbformat_minor": 0
}
